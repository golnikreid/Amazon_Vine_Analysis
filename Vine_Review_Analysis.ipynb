{
  "nbformat": 4,
  "nbformat_minor": 0,
  "metadata": {
    "colab": {
      "provenance": []
    },
    "kernelspec": {
      "name": "python3",
      "display_name": "Python 3"
    },
    "language_info": {
      "name": "python"
    }
  },
  "cells": [
    {
      "cell_type": "code",
      "execution_count": 1,
      "metadata": {
        "colab": {
          "base_uri": "https://localhost:8080/"
        },
        "id": "NdfnMD4nRtNB",
        "outputId": "3b4d4893-deef-482e-9116-36ca5d9167d1"
      },
      "outputs": [
        {
          "output_type": "stream",
          "name": "stdout",
          "text": [
            "\r0% [Working]\r            \rGet:1 http://security.ubuntu.com/ubuntu focal-security InRelease [114 kB]\n",
            "\r0% [Connecting to archive.ubuntu.com] [1 InRelease 14.2 kB/114 kB 12%] [Connect\r0% [Connecting to archive.ubuntu.com (185.125.190.36)] [Connected to cloud.r-pr\r                                                                               \rGet:2 https://cloud.r-project.org/bin/linux/ubuntu focal-cran40/ InRelease [3,622 B]\n",
            "\r0% [Connecting to archive.ubuntu.com (185.125.190.36)] [Waiting for headers] [W\r                                                                               \rGet:3 https://developer.download.nvidia.com/compute/cuda/repos/ubuntu2004/x86_64  InRelease [1,581 B]\n",
            "Hit:4 http://ppa.launchpad.net/c2d4u.team/c2d4u4.0+/ubuntu focal InRelease\n",
            "Hit:5 http://archive.ubuntu.com/ubuntu focal InRelease\n",
            "Get:6 http://archive.ubuntu.com/ubuntu focal-updates InRelease [114 kB]\n",
            "Hit:7 http://ppa.launchpad.net/cran/libgit2/ubuntu focal InRelease\n",
            "Get:8 http://security.ubuntu.com/ubuntu focal-security/universe amd64 Packages [1,029 kB]\n",
            "Hit:9 http://ppa.launchpad.net/deadsnakes/ppa/ubuntu focal InRelease\n",
            "Get:10 http://security.ubuntu.com/ubuntu focal-security/main amd64 Packages [2,593 kB]\n",
            "Hit:11 http://ppa.launchpad.net/graphics-drivers/ppa/ubuntu focal InRelease\n",
            "Get:12 http://archive.ubuntu.com/ubuntu focal-backports InRelease [108 kB]\n",
            "Hit:13 http://ppa.launchpad.net/ubuntugis/ppa/ubuntu focal InRelease\n",
            "Get:14 https://developer.download.nvidia.com/compute/cuda/repos/ubuntu2004/x86_64  Packages [975 kB]\n",
            "Get:15 http://archive.ubuntu.com/ubuntu focal-updates/universe amd64 Packages [1,325 kB]\n",
            "Get:16 http://archive.ubuntu.com/ubuntu focal-updates/main amd64 Packages [3,075 kB]\n",
            "Fetched 9,338 kB in 7s (1,412 kB/s)\n",
            "Reading package lists... Done\n"
          ]
        }
      ],
      "source": [
        "import os\n",
        "# Find the latest version of spark 3.0  from http://www.apache.org/dist/spark/ and enter as the spark version\n",
        "# For example:\n",
        "# spark_version = 'spark-3.0.3'\n",
        "spark_version = 'spark-3.3.2'\n",
        "os.environ['SPARK_VERSION']=spark_version\n",
        "\n",
        "# Install Spark and Java\n",
        "!apt-get update\n",
        "!apt-get install openjdk-11-jdk-headless -qq > /dev/null\n",
        "!wget -q http://www.apache.org/dist/spark/$SPARK_VERSION/$SPARK_VERSION-bin-hadoop3.tgz\n",
        "!tar xf $SPARK_VERSION-bin-hadoop3.tgz\n",
        "!pip install -q findspark\n",
        "\n",
        "# Set Environment Variables\n",
        "import os\n",
        "os.environ[\"JAVA_HOME\"] = \"/usr/lib/jvm/java-11-openjdk-amd64\"\n",
        "os.environ[\"SPARK_HOME\"] = f\"/content/{spark_version}-bin-hadoop3\"\n",
        "\n",
        "# Start a SparkSession\n",
        "import findspark\n",
        "findspark.init()"
      ]
    },
    {
      "cell_type": "code",
      "source": [
        "from pyspark.sql import SparkSession\n",
        "spark = SparkSession.builder.appName(\"M17-Vine-Challenge\").config(\"spark.driver.extraClassPath\",\"/content/postgresql-42.2.16.jar\").getOrCreate()"
      ],
      "metadata": {
        "id": "2cmQ-F1ER0af"
      },
      "execution_count": 2,
      "outputs": []
    },
    {
      "cell_type": "code",
      "source": [
        "from pyspark import SparkFiles\n",
        "url = \"https://s3.amazonaws.com/amazon-reviews-pds/tsv/amazon_reviews_us_Digital_Video_Games_v1_00.tsv.gz\"\n",
        "spark.sparkContext.addFile(url)\n",
        "df = spark.read.option(\"encoding\", \"UTF-8\").csv(SparkFiles.get(\"\"), sep=\"\\t\", header=True, inferSchema=True)\n",
        "df.show()"
      ],
      "metadata": {
        "colab": {
          "base_uri": "https://localhost:8080/"
        },
        "id": "UMuvdmrmR0dM",
        "outputId": "c63c5491-aec8-4467-8277-9cd60d19add0"
      },
      "execution_count": 3,
      "outputs": [
        {
          "output_type": "stream",
          "name": "stdout",
          "text": [
            "+-----------+-----------+--------------+----------+--------------+--------------------+-------------------+-----------+-------------+-----------+----+-----------------+--------------------+--------------------+-------------------+\n",
            "|marketplace|customer_id|     review_id|product_id|product_parent|       product_title|   product_category|star_rating|helpful_votes|total_votes|vine|verified_purchase|     review_headline|         review_body|        review_date|\n",
            "+-----------+-----------+--------------+----------+--------------+--------------------+-------------------+-----------+-------------+-----------+----+-----------------+--------------------+--------------------+-------------------+\n",
            "|         US|   21269168| RSH1OZ87OYK92|B013PURRZW|     603406193|Madden NFL 16 - X...|Digital_Video_Games|          2|            2|          3|   N|                N|A slight improvem...|I keep buying mad...|2015-08-31 00:00:00|\n",
            "|         US|     133437|R1WFOQ3N9BO65I|B00F4CEHNK|     341969535| Xbox Live Gift Card|Digital_Video_Games|          5|            0|          0|   N|                Y|          Five Stars|             Awesome|2015-08-31 00:00:00|\n",
            "|         US|   45765011| R3YOOS71KM5M9|B00DNHLFQA|     951665344|Command & Conquer...|Digital_Video_Games|          5|            0|          0|   N|                Y|Hail to the great...|If you are preppi...|2015-08-31 00:00:00|\n",
            "|         US|     113118|R3R14UATT3OUFU|B004RMK5QG|     395682204|Playstation Plus ...|Digital_Video_Games|          5|            0|          0|   N|                Y|          Five Stars|             Perfect|2015-08-31 00:00:00|\n",
            "|         US|   22151364| RV2W9SGDNQA2C|B00G9BNLQE|     640460561|Saints Row IV - E...|Digital_Video_Games|          5|            0|          0|   N|                Y|          Five Stars|            Awesome!|2015-08-31 00:00:00|\n",
            "|         US|   22151364|R3CFKLIZ0I2KOB|B00IMIL498|     621922192|Double Dragon: Ne...|Digital_Video_Games|          5|            0|          0|   N|                Y|          Five Stars|            Awesome!|2015-08-31 00:00:00|\n",
            "|         US|   38426028|R1LRYU1V0T3O38|B00S00IJH8|     215163395|              Sims 4|Digital_Video_Games|          4|            0|          0|   N|                Y|i like the new sk...|i like the new sk...|2015-08-31 00:00:00|\n",
            "|         US|    6057518| R44QKV6FE5CJ2|B004RMK4BC|     384246568|Playstation Netwo...|Digital_Video_Games|          5|            0|          0|   N|                Y|          Five Stars|               Super|2015-08-31 00:00:00|\n",
            "|         US|   20715661|R2TX1KLPXXXNYS|B00K59HKIQ|     384246568|Playstation Netwo...|Digital_Video_Games|          5|            0|          0|   N|                Y|         Easy & Fast|Excellent, fast a...|2015-08-31 00:00:00|\n",
            "|         US|   26540306|R1JEEW4C6R89BA|B00K59HKIQ|     384246568|Playstation Netwo...|Digital_Video_Games|          5|            0|          0|   N|                Y|          Five Stars|                  Ok|2015-08-31 00:00:00|\n",
            "|         US|    8926809|R3B3UHK1FO0ERS|B004774IPU|     151985175|Sid Meier's Civil...|Digital_Video_Games|          1|            0|          0|   N|                N|I am still playin...|As has been writt...|2015-08-31 00:00:00|\n",
            "|         US|   31525534|R2GVSDHW513SS1|B002LIT9EC|     695277014|Build-a-lot 4: Po...|Digital_Video_Games|          5|            0|          0|   N|                Y|Probably the best...|Probably the best...|2015-08-31 00:00:00|\n",
            "|         US|   22151364|R1R1NT516PYT73|B008ALUBYQ|     112160022|       Borderlands 2|Digital_Video_Games|          5|            0|          0|   N|                Y|          Five Stars|            Awesome!|2015-08-31 00:00:00|\n",
            "|         US|   22977584|R3K624QDQKENN9|B010KYDNDG|     835376637|Minecraft for PC/...|Digital_Video_Games|          4|            0|          0|   N|                Y|                 FUN|COOL BUT IT LAGES...|2015-08-31 00:00:00|\n",
            "|         US|   45765011| R1FOXH7PCJX3V|B008ALUBYQ|     112160022|       Borderlands 2|Digital_Video_Games|          1|            0|          2|   N|                Y|            One Star|Lames purchase I ...|2015-08-31 00:00:00|\n",
            "|         US|    2239522| RA1246M1OMDWC|B004RMK4P8|     384246568|Playstation Netwo...|Digital_Video_Games|          5|            0|          0|   N|                Y|          Five Stars|               Great|2015-08-31 00:00:00|\n",
            "|         US|   48805811|R2I9SXWB0PAEKQ|B004RMK5QG|     395682204|Playstation Plus ...|Digital_Video_Games|          5|            0|          0|   N|                Y|          Five Stars|          Awesome!!!|2015-08-31 00:00:00|\n",
            "|         US|   18646481|R3UGL544NA0G9C|B00BI16Z22|     552981447|Brink of Consciou...|Digital_Video_Games|          4|            0|          0|   N|                Y|       worth playing|pretty good but n...|2015-08-31 00:00:00|\n",
            "|         US|   10310935|R1CBA4Y92GVAVM|B004VSTQ2A|     232803743|Xbox Live Subscri...|Digital_Video_Games|          5|            0|          0|   N|                Y|          Five Stars|What can I say......|2015-08-31 00:00:00|\n",
            "|         US|    5587610|R24NEKNR01VEHU|B00GAC1D2G|     384246568|Playstation Netwo...|Digital_Video_Games|          5|            0|          0|   N|                Y|        Just amazing|Very fast to rece...|2015-08-31 00:00:00|\n",
            "+-----------+-----------+--------------+----------+--------------+--------------------+-------------------+-----------+-------------+-----------+----+-----------------+--------------------+--------------------+-------------------+\n",
            "only showing top 20 rows\n",
            "\n"
          ]
        }
      ]
    },
    {
      "cell_type": "code",
      "source": [
        "# Create the vine_table. DataFrame\n",
        "vine_df = df.select([\"review_id\", \"star_rating\", \"helpful_votes\", \"total_votes\", \"vine\", \"verified_purchase\"])\n",
        "vine_df.show()"
      ],
      "metadata": {
        "colab": {
          "base_uri": "https://localhost:8080/"
        },
        "id": "50HSWDx0R0f4",
        "outputId": "4d6e106d-9cdd-454b-f363-62593df8a672"
      },
      "execution_count": 4,
      "outputs": [
        {
          "output_type": "stream",
          "name": "stdout",
          "text": [
            "+--------------+-----------+-------------+-----------+----+-----------------+\n",
            "|     review_id|star_rating|helpful_votes|total_votes|vine|verified_purchase|\n",
            "+--------------+-----------+-------------+-----------+----+-----------------+\n",
            "| RSH1OZ87OYK92|          2|            2|          3|   N|                N|\n",
            "|R1WFOQ3N9BO65I|          5|            0|          0|   N|                Y|\n",
            "| R3YOOS71KM5M9|          5|            0|          0|   N|                Y|\n",
            "|R3R14UATT3OUFU|          5|            0|          0|   N|                Y|\n",
            "| RV2W9SGDNQA2C|          5|            0|          0|   N|                Y|\n",
            "|R3CFKLIZ0I2KOB|          5|            0|          0|   N|                Y|\n",
            "|R1LRYU1V0T3O38|          4|            0|          0|   N|                Y|\n",
            "| R44QKV6FE5CJ2|          5|            0|          0|   N|                Y|\n",
            "|R2TX1KLPXXXNYS|          5|            0|          0|   N|                Y|\n",
            "|R1JEEW4C6R89BA|          5|            0|          0|   N|                Y|\n",
            "|R3B3UHK1FO0ERS|          1|            0|          0|   N|                N|\n",
            "|R2GVSDHW513SS1|          5|            0|          0|   N|                Y|\n",
            "|R1R1NT516PYT73|          5|            0|          0|   N|                Y|\n",
            "|R3K624QDQKENN9|          4|            0|          0|   N|                Y|\n",
            "| R1FOXH7PCJX3V|          1|            0|          2|   N|                Y|\n",
            "| RA1246M1OMDWC|          5|            0|          0|   N|                Y|\n",
            "|R2I9SXWB0PAEKQ|          5|            0|          0|   N|                Y|\n",
            "|R3UGL544NA0G9C|          4|            0|          0|   N|                Y|\n",
            "|R1CBA4Y92GVAVM|          5|            0|          0|   N|                Y|\n",
            "|R24NEKNR01VEHU|          5|            0|          0|   N|                Y|\n",
            "+--------------+-----------+-------------+-----------+----+-----------------+\n",
            "only showing top 20 rows\n",
            "\n"
          ]
        }
      ]
    },
    {
      "cell_type": "code",
      "source": [
        "high_votes_df = vine_df.filter(\"total_votes>=20\")\n",
        "high_votes_df.show()"
      ],
      "metadata": {
        "colab": {
          "base_uri": "https://localhost:8080/"
        },
        "id": "lhpPcHnIR0ia",
        "outputId": "6e3dea72-66e1-42a9-fa08-168d93ba664d"
      },
      "execution_count": 6,
      "outputs": [
        {
          "output_type": "stream",
          "name": "stdout",
          "text": [
            "+--------------+-----------+-------------+-----------+----+-----------------+\n",
            "|     review_id|star_rating|helpful_votes|total_votes|vine|verified_purchase|\n",
            "+--------------+-----------+-------------+-----------+----+-----------------+\n",
            "| RV4UH0OWW97K4|          5|           19|         22|   N|                N|\n",
            "| RG6GT6G9WNYT1|          5|           22|         22|   N|                N|\n",
            "| RFBXE3Q3GYQYO|          5|           68|         70|   N|                Y|\n",
            "|R17V95WYC9ZXDD|          1|            0|         20|   N|                Y|\n",
            "|R235HEIYY15NZX|          1|            0|         26|   N|                Y|\n",
            "|R3BZ4DHX2YHC4V|          1|            1|         32|   N|                Y|\n",
            "| RZSC8Q4630BV1|          1|            1|         26|   N|                N|\n",
            "|R34S64NPUZOS90|          5|           23|         24|   N|                N|\n",
            "|R35O3GV3HZUX8B|          5|           58|         63|   N|                N|\n",
            "|R2AZAMZCEUOKQT|          1|           29|         40|   N|                Y|\n",
            "|R103RUVEH5YWQ4|          1|           69|         90|   N|                Y|\n",
            "|R2QNPQLXMCXOH3|          5|           35|         37|   N|                Y|\n",
            "|R3IXRKTYAKSP3I|          1|            2|         36|   N|                N|\n",
            "|R2XR1JSAVZ4G8E|          1|            6|         23|   N|                Y|\n",
            "| R93USRL9TCC0A|          1|            7|         22|   N|                Y|\n",
            "|R3F8QIC548OKSB|          1|            4|         41|   N|                N|\n",
            "| RJHVI076CU1PK|          1|            5|         74|   N|                N|\n",
            "|R2841JSGJYEO5X|          1|            1|         28|   N|                N|\n",
            "|R2YK81PG05KMN8|          1|            4|         33|   N|                Y|\n",
            "|R1RHI2XSCV52AI|          1|            4|         61|   N|                Y|\n",
            "+--------------+-----------+-------------+-----------+----+-----------------+\n",
            "only showing top 20 rows\n",
            "\n"
          ]
        }
      ]
    },
    {
      "cell_type": "code",
      "source": [
        "helpful_df = high_votes_df.filter(high_votes_df.helpful_votes / high_votes_df.total_votes >= .5)\n",
        "helpful_df.show()"
      ],
      "metadata": {
        "colab": {
          "base_uri": "https://localhost:8080/"
        },
        "id": "dNUGP_BOR0lB",
        "outputId": "df0fe9c1-2f19-4eb6-aac5-8174e8967e52"
      },
      "execution_count": 10,
      "outputs": [
        {
          "output_type": "stream",
          "name": "stdout",
          "text": [
            "+--------------+-----------+-------------+-----------+----+-----------------+\n",
            "|     review_id|star_rating|helpful_votes|total_votes|vine|verified_purchase|\n",
            "+--------------+-----------+-------------+-----------+----+-----------------+\n",
            "| RV4UH0OWW97K4|          5|           19|         22|   N|                N|\n",
            "| RG6GT6G9WNYT1|          5|           22|         22|   N|                N|\n",
            "| RFBXE3Q3GYQYO|          5|           68|         70|   N|                Y|\n",
            "|R34S64NPUZOS90|          5|           23|         24|   N|                N|\n",
            "|R35O3GV3HZUX8B|          5|           58|         63|   N|                N|\n",
            "|R2AZAMZCEUOKQT|          1|           29|         40|   N|                Y|\n",
            "|R103RUVEH5YWQ4|          1|           69|         90|   N|                Y|\n",
            "|R2QNPQLXMCXOH3|          5|           35|         37|   N|                Y|\n",
            "| R1JENRRBQ1YMY|          5|           35|         36|   N|                N|\n",
            "|R2NS0HPQ2DD5XU|          1|           35|         45|   N|                N|\n",
            "| RIRX9H2QJFD1P|          5|           49|         53|   N|                Y|\n",
            "|R39R2LEKGIEUFS|          5|           69|         77|   N|                Y|\n",
            "|R2NCX85FTSTWHC|          5|           65|         68|   N|                N|\n",
            "|R1IN7ZA9ZCZEVM|          5|           17|         25|   N|                Y|\n",
            "|R253TQ098JL914|          2|           22|         23|   N|                Y|\n",
            "|R3OPTDO4EDS6LN|          5|           30|         30|   N|                Y|\n",
            "|R1FGHHDQ4P21C0|          1|           30|         33|   N|                N|\n",
            "|R3FQ1CSDIOWWRY|          1|           71|         80|   N|                N|\n",
            "|R3NJE21NUCII5L|          5|          135|        144|   N|                Y|\n",
            "| RRXJ8H18EFNFZ|          4|           26|         32|   N|                Y|\n",
            "+--------------+-----------+-------------+-----------+----+-----------------+\n",
            "only showing top 20 rows\n",
            "\n"
          ]
        }
      ]
    },
    {
      "cell_type": "code",
      "source": [
        "paid_df = helpful_df.filter(helpful_df.verified_purchase == 'Y')\n",
        "paid_df.show()"
      ],
      "metadata": {
        "colab": {
          "base_uri": "https://localhost:8080/"
        },
        "id": "OwuZE6XgVPun",
        "outputId": "49d976cd-ee0c-430c-ad44-bd0ea53abb55"
      },
      "execution_count": 11,
      "outputs": [
        {
          "output_type": "stream",
          "name": "stdout",
          "text": [
            "+--------------+-----------+-------------+-----------+----+-----------------+\n",
            "|     review_id|star_rating|helpful_votes|total_votes|vine|verified_purchase|\n",
            "+--------------+-----------+-------------+-----------+----+-----------------+\n",
            "| RFBXE3Q3GYQYO|          5|           68|         70|   N|                Y|\n",
            "|R2AZAMZCEUOKQT|          1|           29|         40|   N|                Y|\n",
            "|R103RUVEH5YWQ4|          1|           69|         90|   N|                Y|\n",
            "|R2QNPQLXMCXOH3|          5|           35|         37|   N|                Y|\n",
            "| RIRX9H2QJFD1P|          5|           49|         53|   N|                Y|\n",
            "|R39R2LEKGIEUFS|          5|           69|         77|   N|                Y|\n",
            "|R1IN7ZA9ZCZEVM|          5|           17|         25|   N|                Y|\n",
            "|R253TQ098JL914|          2|           22|         23|   N|                Y|\n",
            "|R3OPTDO4EDS6LN|          5|           30|         30|   N|                Y|\n",
            "|R3NJE21NUCII5L|          5|          135|        144|   N|                Y|\n",
            "| RRXJ8H18EFNFZ|          4|           26|         32|   N|                Y|\n",
            "| RVK8IX75BLKHG|          5|           75|         94|   N|                Y|\n",
            "|R2U89MYPQ8PB0U|          5|          299|        338|   N|                Y|\n",
            "|R1Q8YSXEXHP1G6|          5|           48|         50|   N|                Y|\n",
            "|R236DXKNBQ3KST|          5|           33|         35|   N|                Y|\n",
            "|R1QR93IXID7UDG|          1|           24|         28|   N|                Y|\n",
            "|R296WSUBEZI4TT|          5|           18|         21|   N|                Y|\n",
            "|R1T5YMLKF58B2R|          5|           56|         61|   N|                Y|\n",
            "| RLEQZDVBVCEJ9|          5|           28|         28|   N|                Y|\n",
            "|R1Z7QLYE24VDXA|          5|           31|         32|   N|                Y|\n",
            "+--------------+-----------+-------------+-----------+----+-----------------+\n",
            "only showing top 20 rows\n",
            "\n"
          ]
        }
      ]
    },
    {
      "cell_type": "code",
      "source": [
        "unpaid_df = helpful_df.filter(helpful_df.verified_purchase == 'N')\n",
        "unpaid_df.show()"
      ],
      "metadata": {
        "colab": {
          "base_uri": "https://localhost:8080/"
        },
        "id": "uFws0UTqVP0e",
        "outputId": "bc1f7bc6-27f3-443f-877d-b40253cb9a67"
      },
      "execution_count": 12,
      "outputs": [
        {
          "output_type": "stream",
          "name": "stdout",
          "text": [
            "+--------------+-----------+-------------+-----------+----+-----------------+\n",
            "|     review_id|star_rating|helpful_votes|total_votes|vine|verified_purchase|\n",
            "+--------------+-----------+-------------+-----------+----+-----------------+\n",
            "| RV4UH0OWW97K4|          5|           19|         22|   N|                N|\n",
            "| RG6GT6G9WNYT1|          5|           22|         22|   N|                N|\n",
            "|R34S64NPUZOS90|          5|           23|         24|   N|                N|\n",
            "|R35O3GV3HZUX8B|          5|           58|         63|   N|                N|\n",
            "| R1JENRRBQ1YMY|          5|           35|         36|   N|                N|\n",
            "|R2NS0HPQ2DD5XU|          1|           35|         45|   N|                N|\n",
            "|R2NCX85FTSTWHC|          5|           65|         68|   N|                N|\n",
            "|R1FGHHDQ4P21C0|          1|           30|         33|   N|                N|\n",
            "|R3FQ1CSDIOWWRY|          1|           71|         80|   N|                N|\n",
            "|R29H3IX0EL2VZR|          4|           20|         23|   N|                N|\n",
            "|R39XEAKCN4QCCX|          1|           14|         22|   N|                N|\n",
            "|R2LU04F4H220GZ|          5|           60|         66|   N|                N|\n",
            "| RVGYML8F2AJPJ|          5|           61|         63|   N|                N|\n",
            "|  R98EK4PVUGUM|          5|           21|         22|   N|                N|\n",
            "|R1A7HL7K4Y3VIQ|          4|           21|         24|   N|                N|\n",
            "|R2Z0OD9LTWR1N7|          5|           44|         47|   N|                N|\n",
            "|R1TYS3VCSK9CVU|          4|           22|         24|   N|                N|\n",
            "|R33WE6S43QT33E|          5|           22|         26|   N|                N|\n",
            "|R2I8GZJBLXMO7C|          5|           31|         35|   N|                N|\n",
            "| R39O5EDFE44NC|          5|           31|         36|   N|                N|\n",
            "+--------------+-----------+-------------+-----------+----+-----------------+\n",
            "only showing top 20 rows\n",
            "\n"
          ]
        }
      ]
    },
    {
      "cell_type": "code",
      "source": [
        "# Stats for paid reviews\n",
        "from pyspark.sql.functions import sum\n",
        "paid_df.select(sum(paid_df.total_votes).alias(\"Total Reviews\")).show()\n",
        "paid_df.filter(\"star_rating=5\").select(sum(paid_df.total_votes).alias(\"Total 5 Star Reviews\")).show()\n",
        "print(\"5 star reviews make up \" + str(round(21183/49035*100, 2)) + \"% of the total paid reviews\")\n"
      ],
      "metadata": {
        "colab": {
          "base_uri": "https://localhost:8080/"
        },
        "id": "mFWXqRUWVP3k",
        "outputId": "96f6c0d0-302f-4fe6-b2e3-7632071926c9"
      },
      "execution_count": 22,
      "outputs": [
        {
          "output_type": "stream",
          "name": "stdout",
          "text": [
            "+-------------+\n",
            "|Total Reviews|\n",
            "+-------------+\n",
            "|        49035|\n",
            "+-------------+\n",
            "\n",
            "+--------------------+\n",
            "|Total 5 Star Reviews|\n",
            "+--------------------+\n",
            "|               21183|\n",
            "+--------------------+\n",
            "\n",
            "5 star reviews make up 43.2% of the total paid reviews\n"
          ]
        }
      ]
    },
    {
      "cell_type": "code",
      "source": [
        "# Stats for unpaid reviews\n",
        "unpaid_df.select(sum(unpaid_df.total_votes).alias(\"Total Reviews\")).show()\n",
        "unpaid_df.filter(\"star_rating=5\").select(sum(unpaid_df.total_votes).alias(\"Total 5 Star Reviews\")).show()\n",
        "print(\"5 star reviews make up \" + str(round(18129/54237*100, 2)) + \"% of the total unpaid reviews\")"
      ],
      "metadata": {
        "colab": {
          "base_uri": "https://localhost:8080/"
        },
        "id": "L9mTOCn8YqfQ",
        "outputId": "9348fc5d-a8e0-41a5-ffc6-7b7803f7d059"
      },
      "execution_count": 24,
      "outputs": [
        {
          "output_type": "stream",
          "name": "stdout",
          "text": [
            "+-------------+\n",
            "|Total Reviews|\n",
            "+-------------+\n",
            "|        54237|\n",
            "+-------------+\n",
            "\n",
            "+--------------------+\n",
            "|Total 5 Star Reviews|\n",
            "+--------------------+\n",
            "|               18129|\n",
            "+--------------------+\n",
            "\n",
            "5 star reviews make up 33.43% of the total unpaid reviews\n"
          ]
        }
      ]
    }
  ]
}